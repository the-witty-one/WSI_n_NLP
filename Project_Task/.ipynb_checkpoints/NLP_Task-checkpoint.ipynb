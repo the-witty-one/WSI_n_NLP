{
 "cells": [
  {
   "cell_type": "code",
   "execution_count": 1,
   "id": "4dc6c6df",
   "metadata": {},
   "outputs": [],
   "source": [
    "import requests"
   ]
  },
  {
   "cell_type": "code",
   "execution_count": 2,
   "id": "fbd4a575",
   "metadata": {},
   "outputs": [],
   "source": [
    "url=\"https://www.pathologyoutlines.com/\""
   ]
  },
  {
   "cell_type": "code",
   "execution_count": 3,
   "id": "717f3b3b",
   "metadata": {},
   "outputs": [
    {
     "data": {
      "text/plain": [
       "requests.models.Response"
      ]
     },
     "execution_count": 3,
     "metadata": {},
     "output_type": "execute_result"
    }
   ],
   "source": [
    "r=requests.get(url)\n",
    "type(r)"
   ]
  },
  {
   "cell_type": "code",
   "execution_count": 4,
   "id": "b474149b",
   "metadata": {},
   "outputs": [],
   "source": [
    "html=r.text"
   ]
  },
  {
   "cell_type": "code",
   "execution_count": 5,
   "id": "5b35dca5",
   "metadata": {},
   "outputs": [
    {
     "data": {
      "text/plain": [
       "bs4.BeautifulSoup"
      ]
     },
     "execution_count": 5,
     "metadata": {},
     "output_type": "execute_result"
    }
   ],
   "source": [
    "from bs4 import BeautifulSoup\n",
    "soup = BeautifulSoup(html,\"html5lib\")\n",
    "type(soup)"
   ]
  },
  {
   "cell_type": "code",
   "execution_count": 6,
   "id": "9ac1b76f",
   "metadata": {},
   "outputs": [],
   "source": [
    "x=soup.findAll(class_='home_content clearfix')"
   ]
  },
  {
   "cell_type": "code",
   "execution_count": 7,
   "id": "9aa476a0",
   "metadata": {},
   "outputs": [],
   "source": [
    "names=[my_tag.text for my_tag in soup.find_all(class_=\"home_content clearfix\")]"
   ]
  },
  {
   "cell_type": "code",
   "execution_count": 8,
   "id": "a5923fab",
   "metadata": {},
   "outputs": [],
   "source": [
    "# help(BeautifulSoup)\n",
    "st=[]\n",
    "for i in names:\n",
    "    st.append(i.split('\\n'))\n",
    "keys=st[0]"
   ]
  },
  {
   "cell_type": "code",
   "execution_count": 9,
   "id": "5a8a8847",
   "metadata": {},
   "outputs": [],
   "source": [
    "keys=list(filter(None, keys))"
   ]
  },
  {
   "cell_type": "code",
   "execution_count": 10,
   "id": "e3d56a76",
   "metadata": {},
   "outputs": [],
   "source": [
    "keys=[s.strip() for s in keys]"
   ]
  },
  {
   "cell_type": "code",
   "execution_count": 11,
   "id": "a8682bee",
   "metadata": {},
   "outputs": [],
   "source": [
    "# keys"
   ]
  },
  {
   "cell_type": "code",
   "execution_count": 12,
   "id": "29a49ef3",
   "metadata": {},
   "outputs": [
    {
     "data": {
      "text/plain": [
       "60"
      ]
     },
     "execution_count": 12,
     "metadata": {},
     "output_type": "execute_result"
    }
   ],
   "source": [
    "len(keys)"
   ]
  },
  {
   "cell_type": "code",
   "execution_count": 13,
   "id": "236c2de4",
   "metadata": {},
   "outputs": [],
   "source": [
    "# keys"
   ]
  },
  {
   "cell_type": "code",
   "execution_count": 14,
   "id": "11c36be8",
   "metadata": {},
   "outputs": [],
   "source": [
    "data = soup.findAll('div',attrs={'class':'home_content clearfix'})\n",
    "res_link=[]\n",
    "na=[]\n",
    "for div in data:\n",
    "    links = div.findAll('a')\n",
    "    for a in links:\n",
    "        res_link.append(a['href'])\n",
    "        na.append(a.text)"
   ]
  },
  {
   "cell_type": "code",
   "execution_count": 15,
   "id": "5a2d1ac0",
   "metadata": {},
   "outputs": [
    {
     "data": {
      "text/plain": [
       "('https://www.pathologyoutlines.com/adrenal.html',\n",
       " 'Adrenal gland & paraganglia',\n",
       " 'Adrenal gland & paraganglia')"
      ]
     },
     "execution_count": 15,
     "metadata": {},
     "output_type": "execute_result"
    }
   ],
   "source": [
    "res_link[0],na[0],keys[0]"
   ]
  },
  {
   "cell_type": "code",
   "execution_count": 16,
   "id": "379ebad4",
   "metadata": {},
   "outputs": [
    {
     "data": {
      "text/plain": [
       "('https://www.pathologyoutlines.com/softtissue.html', 'Soft tissue')"
      ]
     },
     "execution_count": 16,
     "metadata": {},
     "output_type": "execute_result"
    }
   ],
   "source": [
    "res_link[50],na[50]"
   ]
  },
  {
   "cell_type": "code",
   "execution_count": 17,
   "id": "8ec98114",
   "metadata": {},
   "outputs": [],
   "source": [
    "mm=[]\n",
    "for i in range(len(res_link)):\n",
    "    r=requests.get(res_link[i])\n",
    "    html=r.text\n",
    "    soup = BeautifulSoup(html,\"html5lib\")\n",
    "    mm.append(soup.findAll('div',attrs={'class':'toc_alpha'}))"
   ]
  },
  {
   "cell_type": "code",
   "execution_count": 18,
   "id": "43aed8e9",
   "metadata": {},
   "outputs": [
    {
     "data": {
      "text/plain": [
       "bs4.element.ResultSet"
      ]
     },
     "execution_count": 18,
     "metadata": {},
     "output_type": "execute_result"
    }
   ],
   "source": [
    "type(mm[0])"
   ]
  },
  {
   "cell_type": "code",
   "execution_count": null,
   "id": "5b90fc12",
   "metadata": {},
   "outputs": [],
   "source": [
    "for i in mm:\n",
    "    l=str(i)\n",
    "    s=[BeautifulSoup(l,\"html5lib\")]\n",
    "    v.append(s)\n",
    "v=[i[0] for i in v]"
   ]
  },
  {
   "cell_type": "code",
   "execution_count": null,
   "id": "5181edbd",
   "metadata": {},
   "outputs": [],
   "source": [
    "vb=[]\n",
    "for i in v:\n",
    "    va=[]\n",
    "    links = i.findAll('a')\n",
    "    for a in links:\n",
    "        va.append(a.text) \n",
    "    vb.append(va)"
   ]
  },
  {
   "cell_type": "code",
   "execution_count": null,
   "id": "08188284",
   "metadata": {},
   "outputs": [],
   "source": [
    "vb"
   ]
  },
  {
   "cell_type": "code",
   "execution_count": null,
   "id": "ca53a56b",
   "metadata": {},
   "outputs": [],
   "source": [
    "values=vb\n",
    "print(keys[0],values[0])"
   ]
  },
  {
   "cell_type": "code",
   "execution_count": null,
   "id": "a0eb733a",
   "metadata": {},
   "outputs": [],
   "source": [
    "d={}\n",
    "for i in range(len(keys)):\n",
    "    d[keys[i]]=values[i]"
   ]
  },
  {
   "cell_type": "code",
   "execution_count": null,
   "id": "0171d521",
   "metadata": {},
   "outputs": [],
   "source": [
    "d['Vulva, vagina & female urethra']"
   ]
  },
  {
   "cell_type": "code",
   "execution_count": null,
   "id": "2e52a786",
   "metadata": {},
   "outputs": [],
   "source": [
    "keys[58]"
   ]
  }
 ],
 "metadata": {
  "kernelspec": {
   "display_name": "Python 3",
   "language": "python",
   "name": "python3"
  },
  "language_info": {
   "codemirror_mode": {
    "name": "ipython",
    "version": 3
   },
   "file_extension": ".py",
   "mimetype": "text/x-python",
   "name": "python",
   "nbconvert_exporter": "python",
   "pygments_lexer": "ipython3",
   "version": "3.8.8"
  }
 },
 "nbformat": 4,
 "nbformat_minor": 5
}
