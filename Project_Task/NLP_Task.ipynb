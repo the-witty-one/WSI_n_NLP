{
 "cells": [
  {
   "cell_type": "code",
   "execution_count": 1,
   "id": "4dc6c6df",
   "metadata": {},
   "outputs": [],
   "source": [
    "import requests"
   ]
  },
  {
   "cell_type": "code",
   "execution_count": 2,
   "id": "fbd4a575",
   "metadata": {},
   "outputs": [],
   "source": [
    "url=\"https://www.pathologyoutlines.com/\""
   ]
  },
  {
   "cell_type": "code",
   "execution_count": 3,
   "id": "717f3b3b",
   "metadata": {},
   "outputs": [
    {
     "data": {
      "text/plain": [
       "requests.models.Response"
      ]
     },
     "execution_count": 3,
     "metadata": {},
     "output_type": "execute_result"
    }
   ],
   "source": [
    "r=requests.get(url)\n",
    "type(r)"
   ]
  },
  {
   "cell_type": "code",
   "execution_count": 4,
   "id": "b474149b",
   "metadata": {},
   "outputs": [],
   "source": [
    "html=r.text"
   ]
  },
  {
   "cell_type": "code",
   "execution_count": 5,
   "id": "5b35dca5",
   "metadata": {},
   "outputs": [
    {
     "data": {
      "text/plain": [
       "bs4.BeautifulSoup"
      ]
     },
     "execution_count": 5,
     "metadata": {},
     "output_type": "execute_result"
    }
   ],
   "source": [
    "from bs4 import BeautifulSoup\n",
    "soup = BeautifulSoup(html,\"html5lib\")\n",
    "type(soup)"
   ]
  },
  {
   "cell_type": "code",
   "execution_count": 6,
   "id": "9ac1b76f",
   "metadata": {},
   "outputs": [],
   "source": [
    "x=soup.findAll(class_='home_content clearfix')"
   ]
  },
  {
   "cell_type": "code",
   "execution_count": 7,
   "id": "9aa476a0",
   "metadata": {},
   "outputs": [],
   "source": [
    "names=[my_tag.text for my_tag in soup.find_all(class_=\"home_content clearfix\")]"
   ]
  },
  {
   "cell_type": "code",
   "execution_count": 8,
   "id": "a5923fab",
   "metadata": {},
   "outputs": [],
   "source": [
    "# help(BeautifulSoup)\n",
    "st=[]\n",
    "for i in names:\n",
    "    st.append(i.split('\\n'))\n",
    "keys=st[0]"
   ]
  },
  {
   "cell_type": "code",
   "execution_count": 9,
   "id": "5a8a8847",
   "metadata": {},
   "outputs": [],
   "source": [
    "keys=list(filter(None, keys))"
   ]
  },
  {
   "cell_type": "code",
   "execution_count": 10,
   "id": "e3d56a76",
   "metadata": {},
   "outputs": [],
   "source": [
    "keys=[s.strip() for s in keys]"
   ]
  },
  {
   "cell_type": "code",
   "execution_count": 11,
   "id": "a8682bee",
   "metadata": {},
   "outputs": [],
   "source": [
    "# keys"
   ]
  },
  {
   "cell_type": "code",
   "execution_count": 12,
   "id": "29a49ef3",
   "metadata": {},
   "outputs": [
    {
     "data": {
      "text/plain": [
       "60"
      ]
     },
     "execution_count": 12,
     "metadata": {},
     "output_type": "execute_result"
    }
   ],
   "source": [
    "len(keys)"
   ]
  },
  {
   "cell_type": "code",
   "execution_count": 13,
   "id": "236c2de4",
   "metadata": {},
   "outputs": [],
   "source": [
    "# keys"
   ]
  },
  {
   "cell_type": "code",
   "execution_count": 14,
   "id": "11c36be8",
   "metadata": {},
   "outputs": [],
   "source": [
    "data = soup.findAll('div',attrs={'class':'home_content clearfix'})\n",
    "res_link=[]\n",
    "na=[]\n",
    "for div in data:\n",
    "    links = div.findAll('a')\n",
    "    for a in links:\n",
    "        res_link.append(a['href'])\n",
    "        na.append(a.text)"
   ]
  },
  {
   "cell_type": "code",
   "execution_count": 15,
   "id": "5a2d1ac0",
   "metadata": {},
   "outputs": [
    {
     "data": {
      "text/plain": [
       "('https://www.pathologyoutlines.com/adrenal.html',\n",
       " 'Adrenal gland & paraganglia',\n",
       " 'Adrenal gland & paraganglia')"
      ]
     },
     "execution_count": 15,
     "metadata": {},
     "output_type": "execute_result"
    }
   ],
   "source": [
    "res_link[0],na[0],keys[0]"
   ]
  },
  {
   "cell_type": "code",
   "execution_count": 16,
   "id": "379ebad4",
   "metadata": {},
   "outputs": [
    {
     "data": {
      "text/plain": [
       "('https://www.pathologyoutlines.com/softtissue.html', 'Soft tissue')"
      ]
     },
     "execution_count": 16,
     "metadata": {},
     "output_type": "execute_result"
    }
   ],
   "source": [
    "res_link[50],na[50]"
   ]
  },
  {
   "cell_type": "code",
   "execution_count": 17,
   "id": "8ec98114",
   "metadata": {},
   "outputs": [],
   "source": [
    "mm=[]\n",
    "for i in range(len(res_link)):\n",
    "    r=requests.get(res_link[i])\n",
    "    html=r.text\n",
    "    soup = BeautifulSoup(html,\"html5lib\")\n",
    "    mm.append(soup.findAll('div',attrs={'class':'toc_alpha'}))"
   ]
  },
  {
   "cell_type": "code",
   "execution_count": 18,
   "id": "43aed8e9",
   "metadata": {},
   "outputs": [
    {
     "data": {
      "text/plain": [
       "bs4.element.ResultSet"
      ]
     },
     "execution_count": 18,
     "metadata": {},
     "output_type": "execute_result"
    }
   ],
   "source": [
    "type(mm[0])"
   ]
  },
  {
   "cell_type": "code",
   "execution_count": 20,
   "id": "5b90fc12",
   "metadata": {},
   "outputs": [],
   "source": [
    "v=[]\n",
    "for i in mm:\n",
    "    l=str(i)\n",
    "    s=[BeautifulSoup(l,\"html5lib\")]\n",
    "    v.append(s)\n",
    "v=[i[0] for i in v]"
   ]
  },
  {
   "cell_type": "code",
   "execution_count": 21,
   "id": "5181edbd",
   "metadata": {},
   "outputs": [],
   "source": [
    "vb=[]\n",
    "for i in v:\n",
    "    va=[]\n",
    "    links = i.findAll('a')\n",
    "    for a in links:\n",
    "        va.append(a.text) \n",
    "    vb.append(va)"
   ]
  },
  {
   "cell_type": "code",
   "execution_count": 28,
   "id": "08188284",
   "metadata": {},
   "outputs": [
    {
     "data": {
      "text/plain": [
       "['adenosis',\n",
       " 'aggressive angiomyxoma',\n",
       " 'anatomy & histology-female urethra',\n",
       " 'anatomy & histology-vulva & vagina',\n",
       " 'angiomyofibroblastoma',\n",
       " 'atypical melanocytic nevi of the genital type',\n",
       " 'Bartholin gland carcinoma',\n",
       " 'basal cell carcinoma',\n",
       " 'benign female urethral lesions',\n",
       " 'cellular angiofibroma',\n",
       " 'clear cell carcinoma',\n",
       " 'condyloma',\n",
       " 'dysplastic nevi',\n",
       " 'endometrioid carcinoma',\n",
       " 'epithelioid sarcoma',\n",
       " 'features to report',\n",
       " 'female urethral carcinoma',\n",
       " 'fibroepithelial (stromal) polyp',\n",
       " 'HPV associated SIL',\n",
       " 'HPV associated squamous cell carcinoma',\n",
       " 'HPV independent SIL',\n",
       " 'HPV independent squamous cell carcinoma',\n",
       " 'infection',\n",
       " 'lichen planus',\n",
       " 'lichen sclerosus',\n",
       " 'mammary/mammary-like tissue and associated lesions',\n",
       " 'melanoma',\n",
       " 'mixed tumor of vagina',\n",
       " 'Paget disease',\n",
       " 'pigmented lesions',\n",
       " 'rhabdomyosarcoma',\n",
       " 'smooth muscle tumors',\n",
       " 'squamous cell carcinoma-vagina',\n",
       " 'staging-female urethra',\n",
       " 'staging-vagina carcinoma',\n",
       " 'staging-vulva carcinoma',\n",
       " 'vulvovaginal cysts']"
      ]
     },
     "execution_count": 28,
     "metadata": {},
     "output_type": "execute_result"
    }
   ],
   "source": [
    "vb[58]"
   ]
  },
  {
   "cell_type": "code",
   "execution_count": 29,
   "id": "ca53a56b",
   "metadata": {},
   "outputs": [
    {
     "name": "stdout",
     "output_type": "stream",
     "text": [
      "Adrenal gland & paraganglia ['acquired adrenal cortical hyperplasia', 'Addison disease', 'adenoma', 'adenomatoid tumor', 'adrenal cortical carcinoma', 'adrenal cytomegaly', 'adrenal hypoplasia', 'adrenoleukodystrophy', 'aldosterone producing', 'anatomy & embryology-adrenal', 'anatomy-paraganglia', 'autoimmune adrenalitis', 'Beckwith-Wiedemann syndrome', 'composite pheochromocytoma', 'congenital adrenal hyperplasia', 'corticomedullary mixed tumor', 'Cushing syndrome', 'cysts (endothelial, pseudocyst, parasitic)', 'ectopic adrenal tissue', 'features to report-adrenal cortical carcinoma', 'features to report-pheochromocytoma / paraganglioma', 'focal adrenalitis', 'ganglioneuroblastoma', 'ganglioneuroblastoma, intermixed variant', 'ganglioneuroblastoma, nodular variant', 'ganglioneuroma', 'hemangioma', 'histology-adrenal cortex', 'histology-adrenal medulla', 'hyperaldosteronism', 'hyperplasia-medulla', 'hyperplasia-paraganglia', 'lymphangioma', 'lymphoma', 'macronodular hyperplasia', 'macronodular hyperplasia with marked adrenal enlargement', 'metastases', 'micronodular hyperplasia', 'myelolipoma', 'myxoid variant', 'neuroblastic tumors overview', 'neuroblastoma', 'oncocytic variant', 'oncocytoma', 'ovarian thecal metaplasia', 'paraganglioma', 'pheochromocytoma', 'pigmented adrenal cortical hyperplasia', 'plasmacytoma', 'primary adrenal insufficiency', 'sarcomatoid variant', 'secondary adrenal insufficiency', 'staging-adrenal cortical carcinoma', 'staging-neuroblastic tumors', 'staging-pheochromocytoma and paraganglioma', 'Waterhouse-Friderichsen syndrome', 'WHO classification']\n"
     ]
    }
   ],
   "source": [
    "values=vb\n",
    "print(keys[0],values[0])"
   ]
  },
  {
   "cell_type": "code",
   "execution_count": 30,
   "id": "a0eb733a",
   "metadata": {},
   "outputs": [],
   "source": [
    "d={}\n",
    "for i in range(len(keys)):\n",
    "    d[keys[i]]=values[i]"
   ]
  },
  {
   "cell_type": "code",
   "execution_count": 31,
   "id": "0171d521",
   "metadata": {
    "scrolled": true
   },
   "outputs": [
    {
     "data": {
      "text/plain": [
       "['adenosis',\n",
       " 'aggressive angiomyxoma',\n",
       " 'anatomy & histology-female urethra',\n",
       " 'anatomy & histology-vulva & vagina',\n",
       " 'angiomyofibroblastoma',\n",
       " 'atypical melanocytic nevi of the genital type',\n",
       " 'Bartholin gland carcinoma',\n",
       " 'basal cell carcinoma',\n",
       " 'benign female urethral lesions',\n",
       " 'cellular angiofibroma',\n",
       " 'clear cell carcinoma',\n",
       " 'condyloma',\n",
       " 'dysplastic nevi',\n",
       " 'endometrioid carcinoma',\n",
       " 'epithelioid sarcoma',\n",
       " 'features to report',\n",
       " 'female urethral carcinoma',\n",
       " 'fibroepithelial (stromal) polyp',\n",
       " 'HPV associated SIL',\n",
       " 'HPV associated squamous cell carcinoma',\n",
       " 'HPV independent SIL',\n",
       " 'HPV independent squamous cell carcinoma',\n",
       " 'infection',\n",
       " 'lichen planus',\n",
       " 'lichen sclerosus',\n",
       " 'mammary/mammary-like tissue and associated lesions',\n",
       " 'melanoma',\n",
       " 'mixed tumor of vagina',\n",
       " 'Paget disease',\n",
       " 'pigmented lesions',\n",
       " 'rhabdomyosarcoma',\n",
       " 'smooth muscle tumors',\n",
       " 'squamous cell carcinoma-vagina',\n",
       " 'staging-female urethra',\n",
       " 'staging-vagina carcinoma',\n",
       " 'staging-vulva carcinoma',\n",
       " 'vulvovaginal cysts']"
      ]
     },
     "execution_count": 31,
     "metadata": {},
     "output_type": "execute_result"
    }
   ],
   "source": [
    "d['Vulva, vagina & female urethra']"
   ]
  },
  {
   "cell_type": "code",
   "execution_count": 33,
   "id": "2e52a786",
   "metadata": {},
   "outputs": [
    {
     "data": {
      "text/plain": [
       "['Adrenal gland & paraganglia',\n",
       " 'Anus & perianal',\n",
       " 'Appendix',\n",
       " 'Autopsy & forensics',\n",
       " 'Bladder, ureter & renal pelvis',\n",
       " 'Bone & joints',\n",
       " 'Bone marrow neoplastic',\n",
       " 'Bone marrow nonneoplastic',\n",
       " 'Breast',\n",
       " 'Cervix',\n",
       " 'Chemistry, toxicology & urinalysis',\n",
       " 'CNS nontumor',\n",
       " 'CNS tumor',\n",
       " 'Coagulation',\n",
       " 'Colon',\n",
       " 'Cytopathology',\n",
       " 'Ear',\n",
       " 'Esophagus',\n",
       " 'Eye',\n",
       " 'Fallopian tubes & broad ligament',\n",
       " 'Gallbladder & extrahep bile ducts',\n",
       " 'Heart',\n",
       " 'Hematology',\n",
       " 'Informatics, digital & computational',\n",
       " 'Kidney nontumor',\n",
       " 'Kidney tumor',\n",
       " 'Lab admin & management',\n",
       " 'Larynx, hypopharynx & trachea',\n",
       " 'Liver & intrahepatic bile ducts',\n",
       " 'Lung',\n",
       " 'Lymph nodes & spleen',\n",
       " 'Lymphoma & related disorders',\n",
       " 'Mandible & maxilla',\n",
       " 'Mediastinum',\n",
       " 'Micro, parasitology & COVID-19',\n",
       " 'Molecular markers',\n",
       " 'Muscle & nerve nontumor',\n",
       " 'Nasal cavity & nasopharynx',\n",
       " 'Oral cavity & oropharynx',\n",
       " 'Ovary',\n",
       " 'Pancreas',\n",
       " 'Penis & scrotum',\n",
       " 'Placenta',\n",
       " 'Pleura & peritoneum',\n",
       " 'Prostate gland & seminal vesicles',\n",
       " 'Salivary glands',\n",
       " 'Skin melanocytic tumor',\n",
       " 'Skin nonmelanocytic tumor',\n",
       " 'Skin nontumor',\n",
       " 'Small intestine & ampulla',\n",
       " 'Soft tissue',\n",
       " 'Staging',\n",
       " 'Stains & CD markers',\n",
       " 'Stomach',\n",
       " 'Testis & paratestis',\n",
       " 'Thyroid & parathyroid',\n",
       " 'Transfusion medicine',\n",
       " 'Uterus',\n",
       " 'Vulva, vagina & female urethra',\n",
       " 'WHO classifications of tumors']"
      ]
     },
     "execution_count": 33,
     "metadata": {},
     "output_type": "execute_result"
    }
   ],
   "source": [
    "keys #Name of the organs for which dictionary is created"
   ]
  },
  {
   "cell_type": "code",
   "execution_count": null,
   "id": "a2c98f54",
   "metadata": {},
   "outputs": [],
   "source": []
  }
 ],
 "metadata": {
  "kernelspec": {
   "display_name": "Python 3",
   "language": "python",
   "name": "python3"
  },
  "language_info": {
   "codemirror_mode": {
    "name": "ipython",
    "version": 3
   },
   "file_extension": ".py",
   "mimetype": "text/x-python",
   "name": "python",
   "nbconvert_exporter": "python",
   "pygments_lexer": "ipython3",
   "version": "3.8.8"
  }
 },
 "nbformat": 4,
 "nbformat_minor": 5
}
